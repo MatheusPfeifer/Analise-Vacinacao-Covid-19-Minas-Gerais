{
 "cells": [
  {
   "cell_type": "markdown",
   "id": "77271f2c",
   "metadata": {},
   "source": [
    "# Análise Vacinação Covid-19 Minas Gerais"
   ]
  },
  {
   "cell_type": "markdown",
   "id": "df3d44a9",
   "metadata": {},
   "source": [
    "Neste script, farei um pré-processamento da base de dados para diminuir a dimensão do dataset e melhorar o procesamento no Power BI, visto que é um conjunto de dados muito grande, mais de 9GB e fica inviável fazer o tratamento dos dados dentro do Power BI. O Python é mais eficiente neste pré-processamento."
   ]
  },
  {
   "cell_type": "markdown",
   "id": "6997b56f",
   "metadata": {},
   "source": [
    "A base de dados se encontra em https://opendatasus.saude.gov.br/dataset/covid-19-vacinacao"
   ]
  },
  {
   "cell_type": "code",
   "execution_count": 1,
   "id": "23470b6b",
   "metadata": {},
   "outputs": [],
   "source": [
    "# Importando biblioteca\n",
    "import pandas as pd"
   ]
  },
  {
   "cell_type": "code",
   "execution_count": 16,
   "id": "bcc54145",
   "metadata": {},
   "outputs": [],
   "source": [
    "# Importando base de dados\n",
    "df = pd.read_csv('part-00000-95a60bde-2b39-4964-a66b-0ec671243fac.c000.csv', sep = ';')"
   ]
  },
  {
   "cell_type": "code",
   "execution_count": 17,
   "id": "64847d80",
   "metadata": {},
   "outputs": [
    {
     "data": {
      "text/html": [
       "<div>\n",
       "<style scoped>\n",
       "    .dataframe tbody tr th:only-of-type {\n",
       "        vertical-align: middle;\n",
       "    }\n",
       "\n",
       "    .dataframe tbody tr th {\n",
       "        vertical-align: top;\n",
       "    }\n",
       "\n",
       "    .dataframe thead th {\n",
       "        text-align: right;\n",
       "    }\n",
       "</style>\n",
       "<table border=\"1\" class=\"dataframe\">\n",
       "  <thead>\n",
       "    <tr style=\"text-align: right;\">\n",
       "      <th></th>\n",
       "      <th>document_id</th>\n",
       "      <th>paciente_id</th>\n",
       "      <th>paciente_idade</th>\n",
       "      <th>paciente_datanascimento</th>\n",
       "      <th>paciente_enumsexobiologico</th>\n",
       "      <th>paciente_racacor_codigo</th>\n",
       "      <th>paciente_racacor_valor</th>\n",
       "      <th>paciente_endereco_coibgemunicipio</th>\n",
       "      <th>paciente_endereco_copais</th>\n",
       "      <th>paciente_endereco_nmmunicipio</th>\n",
       "      <th>...</th>\n",
       "      <th>vacina_lote</th>\n",
       "      <th>vacina_fabricante_nome</th>\n",
       "      <th>vacina_fabricante_referencia</th>\n",
       "      <th>vacina_dataaplicacao</th>\n",
       "      <th>vacina_descricao_dose</th>\n",
       "      <th>vacina_codigo</th>\n",
       "      <th>vacina_nome</th>\n",
       "      <th>sistema_origem</th>\n",
       "      <th>data_importacao_rnds</th>\n",
       "      <th>id_sistema_origem</th>\n",
       "    </tr>\n",
       "  </thead>\n",
       "  <tbody>\n",
       "    <tr>\n",
       "      <th>0</th>\n",
       "      <td>e1c5e523-6f94-4ae8-8cf6-b7a8b380ce94-i0b0</td>\n",
       "      <td>22dae2bb5f906534c9f8ca7efef5e53088ac68f803e50b...</td>\n",
       "      <td>69.0</td>\n",
       "      <td>1951-04-04</td>\n",
       "      <td>M</td>\n",
       "      <td>1.0</td>\n",
       "      <td>BRANCA</td>\n",
       "      <td>310620.0</td>\n",
       "      <td>10.0</td>\n",
       "      <td>BELO HORIZONTE</td>\n",
       "      <td>...</td>\n",
       "      <td>210072</td>\n",
       "      <td>FUNDACAO BUTANTAN</td>\n",
       "      <td>Organization/61189445000156</td>\n",
       "      <td>2021-04-01</td>\n",
       "      <td>1ª Dose</td>\n",
       "      <td>86</td>\n",
       "      <td>Covid-19-Coronavac-Sinovac/Butantan</td>\n",
       "      <td>Novo PNI</td>\n",
       "      <td>2021-04-01T15:17:06.000Z</td>\n",
       "      <td>16341</td>\n",
       "    </tr>\n",
       "    <tr>\n",
       "      <th>1</th>\n",
       "      <td>bb2a5d56-bb83-4f87-8c02-f68e8619b6b0-i0b0</td>\n",
       "      <td>cfb9eb5a765e2160adff875d0dd276e30a1a4e3cc71529...</td>\n",
       "      <td>50.0</td>\n",
       "      <td>1970-08-10</td>\n",
       "      <td>F</td>\n",
       "      <td>4.0</td>\n",
       "      <td>AMARELA</td>\n",
       "      <td>310730.0</td>\n",
       "      <td>10.0</td>\n",
       "      <td>BOCAIUVA</td>\n",
       "      <td>...</td>\n",
       "      <td>EY0579</td>\n",
       "      <td>MINISTERIO DA SAUDE</td>\n",
       "      <td>Organization/00394544000851</td>\n",
       "      <td>2021-06-23</td>\n",
       "      <td>1ª Dose</td>\n",
       "      <td>87</td>\n",
       "      <td>Vacina covid-19 - BNT162b2 - BioNTech/Fosun Ph...</td>\n",
       "      <td>Novo PNI</td>\n",
       "      <td>2021-07-12T19:27:16.000Z</td>\n",
       "      <td>16341</td>\n",
       "    </tr>\n",
       "    <tr>\n",
       "      <th>2</th>\n",
       "      <td>a729697f-a293-4cd0-aa11-13ef05cb303a-i0b0</td>\n",
       "      <td>9bc02b4e729a48316ac090f1fbe50a8ddd3400de31bbf8...</td>\n",
       "      <td>20.0</td>\n",
       "      <td>2001-05-04</td>\n",
       "      <td>F</td>\n",
       "      <td>99.0</td>\n",
       "      <td>SEM INFORMACAO</td>\n",
       "      <td>355030.0</td>\n",
       "      <td>10.0</td>\n",
       "      <td>SAO PAULO</td>\n",
       "      <td>...</td>\n",
       "      <td>EX2405</td>\n",
       "      <td>PFIZER MANUFACTURING BELGIUM NV BELGIVA</td>\n",
       "      <td>NaN</td>\n",
       "      <td>2021-05-26</td>\n",
       "      <td>1ª Dose</td>\n",
       "      <td>87</td>\n",
       "      <td>Vacina covid-19 - BNT162b2 - BioNTech/Fosun Ph...</td>\n",
       "      <td>SIGRAH</td>\n",
       "      <td>2021-05-26T13:38:58.000Z</td>\n",
       "      <td>19788</td>\n",
       "    </tr>\n",
       "    <tr>\n",
       "      <th>3</th>\n",
       "      <td>2b3aa8ef-5e1b-44cd-827b-b940c69d622e-i0b0</td>\n",
       "      <td>f3f290319b6988f1efe9dd0055109b97edda1682a8d78e...</td>\n",
       "      <td>38.0</td>\n",
       "      <td>1982-09-07</td>\n",
       "      <td>M</td>\n",
       "      <td>1.0</td>\n",
       "      <td>BRANCA</td>\n",
       "      <td>311060.0</td>\n",
       "      <td>10.0</td>\n",
       "      <td>CAMBUI</td>\n",
       "      <td>...</td>\n",
       "      <td>215VCD158W</td>\n",
       "      <td>FUNDACAO OSWALDO CRUZ</td>\n",
       "      <td>Organization/33781055000135</td>\n",
       "      <td>2021-07-21</td>\n",
       "      <td>1ª Dose</td>\n",
       "      <td>85</td>\n",
       "      <td>Vacina Covid-19 - Covishield</td>\n",
       "      <td>Novo PNI</td>\n",
       "      <td>2021-07-21T17:57:52.000Z</td>\n",
       "      <td>16341</td>\n",
       "    </tr>\n",
       "    <tr>\n",
       "      <th>4</th>\n",
       "      <td>3850d058-5f37-4270-9565-417848bd840a-i0b0</td>\n",
       "      <td>b22537ea2d44cf023d14593e345f2dbe7937a946f4bc94...</td>\n",
       "      <td>70.0</td>\n",
       "      <td>1950-04-20</td>\n",
       "      <td>F</td>\n",
       "      <td>3.0</td>\n",
       "      <td>PARDA</td>\n",
       "      <td>314110.0</td>\n",
       "      <td>10.0</td>\n",
       "      <td>MATOZINHOS</td>\n",
       "      <td>...</td>\n",
       "      <td>210096</td>\n",
       "      <td>FUNDACAO BUTANTAN</td>\n",
       "      <td>Organization/61189445000156</td>\n",
       "      <td>2021-04-06</td>\n",
       "      <td>1ª Dose</td>\n",
       "      <td>86</td>\n",
       "      <td>Covid-19-Coronavac-Sinovac/Butantan</td>\n",
       "      <td>Novo PNI</td>\n",
       "      <td>2021-04-10T17:18:12.000Z</td>\n",
       "      <td>16341</td>\n",
       "    </tr>\n",
       "  </tbody>\n",
       "</table>\n",
       "<p>5 rows × 34 columns</p>\n",
       "</div>"
      ],
      "text/plain": [
       "                                 document_id  \\\n",
       "0  e1c5e523-6f94-4ae8-8cf6-b7a8b380ce94-i0b0   \n",
       "1  bb2a5d56-bb83-4f87-8c02-f68e8619b6b0-i0b0   \n",
       "2  a729697f-a293-4cd0-aa11-13ef05cb303a-i0b0   \n",
       "3  2b3aa8ef-5e1b-44cd-827b-b940c69d622e-i0b0   \n",
       "4  3850d058-5f37-4270-9565-417848bd840a-i0b0   \n",
       "\n",
       "                                         paciente_id  paciente_idade  \\\n",
       "0  22dae2bb5f906534c9f8ca7efef5e53088ac68f803e50b...            69.0   \n",
       "1  cfb9eb5a765e2160adff875d0dd276e30a1a4e3cc71529...            50.0   \n",
       "2  9bc02b4e729a48316ac090f1fbe50a8ddd3400de31bbf8...            20.0   \n",
       "3  f3f290319b6988f1efe9dd0055109b97edda1682a8d78e...            38.0   \n",
       "4  b22537ea2d44cf023d14593e345f2dbe7937a946f4bc94...            70.0   \n",
       "\n",
       "  paciente_datanascimento paciente_enumsexobiologico  paciente_racacor_codigo  \\\n",
       "0              1951-04-04                          M                      1.0   \n",
       "1              1970-08-10                          F                      4.0   \n",
       "2              2001-05-04                          F                     99.0   \n",
       "3              1982-09-07                          M                      1.0   \n",
       "4              1950-04-20                          F                      3.0   \n",
       "\n",
       "  paciente_racacor_valor  paciente_endereco_coibgemunicipio  \\\n",
       "0                 BRANCA                           310620.0   \n",
       "1                AMARELA                           310730.0   \n",
       "2         SEM INFORMACAO                           355030.0   \n",
       "3                 BRANCA                           311060.0   \n",
       "4                  PARDA                           314110.0   \n",
       "\n",
       "   paciente_endereco_copais paciente_endereco_nmmunicipio  ... vacina_lote  \\\n",
       "0                      10.0                BELO HORIZONTE  ...      210072   \n",
       "1                      10.0                      BOCAIUVA  ...      EY0579   \n",
       "2                      10.0                     SAO PAULO  ...      EX2405   \n",
       "3                      10.0                        CAMBUI  ...  215VCD158W   \n",
       "4                      10.0                    MATOZINHOS  ...      210096   \n",
       "\n",
       "                    vacina_fabricante_nome  vacina_fabricante_referencia  \\\n",
       "0                        FUNDACAO BUTANTAN   Organization/61189445000156   \n",
       "1                      MINISTERIO DA SAUDE   Organization/00394544000851   \n",
       "2  PFIZER MANUFACTURING BELGIUM NV BELGIVA                           NaN   \n",
       "3                    FUNDACAO OSWALDO CRUZ   Organization/33781055000135   \n",
       "4                        FUNDACAO BUTANTAN   Organization/61189445000156   \n",
       "\n",
       "  vacina_dataaplicacao  vacina_descricao_dose vacina_codigo  \\\n",
       "0           2021-04-01                1ª Dose            86   \n",
       "1           2021-06-23                1ª Dose            87   \n",
       "2           2021-05-26                1ª Dose            87   \n",
       "3           2021-07-21                1ª Dose            85   \n",
       "4           2021-04-06                1ª Dose            86   \n",
       "\n",
       "                                         vacina_nome  sistema_origem  \\\n",
       "0                Covid-19-Coronavac-Sinovac/Butantan        Novo PNI   \n",
       "1  Vacina covid-19 - BNT162b2 - BioNTech/Fosun Ph...        Novo PNI   \n",
       "2  Vacina covid-19 - BNT162b2 - BioNTech/Fosun Ph...          SIGRAH   \n",
       "3                       Vacina Covid-19 - Covishield        Novo PNI   \n",
       "4                Covid-19-Coronavac-Sinovac/Butantan        Novo PNI   \n",
       "\n",
       "       data_importacao_rnds id_sistema_origem  \n",
       "0  2021-04-01T15:17:06.000Z             16341  \n",
       "1  2021-07-12T19:27:16.000Z             16341  \n",
       "2  2021-05-26T13:38:58.000Z             19788  \n",
       "3  2021-07-21T17:57:52.000Z             16341  \n",
       "4  2021-04-10T17:18:12.000Z             16341  \n",
       "\n",
       "[5 rows x 34 columns]"
      ]
     },
     "execution_count": 17,
     "metadata": {},
     "output_type": "execute_result"
    }
   ],
   "source": [
    "# Visualizando o conjunto de dados\n",
    "df.head()"
   ]
  },
  {
   "cell_type": "code",
   "execution_count": 18,
   "id": "0ab8a8bc",
   "metadata": {},
   "outputs": [
    {
     "data": {
      "text/plain": [
       "(18628888, 34)"
      ]
     },
     "execution_count": 18,
     "metadata": {},
     "output_type": "execute_result"
    }
   ],
   "source": [
    "# Dimensão da tabela\n",
    "df.shape"
   ]
  },
  {
   "cell_type": "code",
   "execution_count": 19,
   "id": "85506c03",
   "metadata": {},
   "outputs": [],
   "source": [
    "# Removendo as colunas que não serão utilizadas no dashboard\n",
    "df1 = df.drop(columns =  ['document_id', 'paciente_racacor_codigo', 'paciente_endereco_coibgemunicipio', \n",
    "                         'paciente_endereco_copais', 'id_sistema_origem', 'paciente_endereco_cep', 'vacina_codigo',\n",
    "                         'vacina_lote', 'vacina_fabricante_nome', 'vacina_fabricante_referencia', 'sistema_origem',\n",
    "                         'data_importacao_rnds', 'paciente_racacor_codigo', 'paciente_datanascimento',\n",
    "                         'paciente_endereco_nmmunicipio', 'paciente_endereco_nmpais', 'paciente_endereco_uf',\n",
    "                         'paciente_nacionalidade_enumnacionalidade', 'estabelecimento_valor', 'estalecimento_nofantasia',\n",
    "                         'estabelecimento_razaosocial', 'estabelecimento_municipio_codigo', 'vacina_grupoatendimento_codigo',\n",
    "                         'vacina_categoria_codigo', 'estabelecimento_uf'])"
   ]
  },
  {
   "cell_type": "code",
   "execution_count": 20,
   "id": "ce19e342",
   "metadata": {},
   "outputs": [
    {
     "data": {
      "text/plain": [
       "(18628888, 10)"
      ]
     },
     "execution_count": 20,
     "metadata": {},
     "output_type": "execute_result"
    }
   ],
   "source": [
    "# Dimensão da tabela reduzida\n",
    "df1.shape"
   ]
  },
  {
   "cell_type": "code",
   "execution_count": 21,
   "id": "23847277",
   "metadata": {},
   "outputs": [
    {
     "data": {
      "text/html": [
       "<div>\n",
       "<style scoped>\n",
       "    .dataframe tbody tr th:only-of-type {\n",
       "        vertical-align: middle;\n",
       "    }\n",
       "\n",
       "    .dataframe tbody tr th {\n",
       "        vertical-align: top;\n",
       "    }\n",
       "\n",
       "    .dataframe thead th {\n",
       "        text-align: right;\n",
       "    }\n",
       "</style>\n",
       "<table border=\"1\" class=\"dataframe\">\n",
       "  <thead>\n",
       "    <tr style=\"text-align: right;\">\n",
       "      <th></th>\n",
       "      <th>paciente_id</th>\n",
       "      <th>paciente_idade</th>\n",
       "      <th>paciente_enumsexobiologico</th>\n",
       "      <th>paciente_racacor_valor</th>\n",
       "      <th>estabelecimento_municipio_nome</th>\n",
       "      <th>vacina_grupoatendimento_nome</th>\n",
       "      <th>vacina_categoria_nome</th>\n",
       "      <th>vacina_dataaplicacao</th>\n",
       "      <th>vacina_descricao_dose</th>\n",
       "      <th>vacina_nome</th>\n",
       "    </tr>\n",
       "  </thead>\n",
       "  <tbody>\n",
       "    <tr>\n",
       "      <th>0</th>\n",
       "      <td>22dae2bb5f906534c9f8ca7efef5e53088ac68f803e50b...</td>\n",
       "      <td>69.0</td>\n",
       "      <td>M</td>\n",
       "      <td>BRANCA</td>\n",
       "      <td>BELO HORIZONTE</td>\n",
       "      <td>Pessoas de 65 a 69 anos</td>\n",
       "      <td>Faixa Etária</td>\n",
       "      <td>2021-04-01</td>\n",
       "      <td>1ª Dose</td>\n",
       "      <td>Covid-19-Coronavac-Sinovac/Butantan</td>\n",
       "    </tr>\n",
       "    <tr>\n",
       "      <th>1</th>\n",
       "      <td>cfb9eb5a765e2160adff875d0dd276e30a1a4e3cc71529...</td>\n",
       "      <td>50.0</td>\n",
       "      <td>F</td>\n",
       "      <td>AMARELA</td>\n",
       "      <td>BOCAIUVA</td>\n",
       "      <td>Pessoas de 18 a 64 anos</td>\n",
       "      <td>Faixa Etária</td>\n",
       "      <td>2021-06-23</td>\n",
       "      <td>1ª Dose</td>\n",
       "      <td>Vacina covid-19 - BNT162b2 - BioNTech/Fosun Ph...</td>\n",
       "    </tr>\n",
       "    <tr>\n",
       "      <th>2</th>\n",
       "      <td>9bc02b4e729a48316ac090f1fbe50a8ddd3400de31bbf8...</td>\n",
       "      <td>20.0</td>\n",
       "      <td>F</td>\n",
       "      <td>SEM INFORMACAO</td>\n",
       "      <td>BELO HORIZONTE</td>\n",
       "      <td>Diabetes Mellitus</td>\n",
       "      <td>Comorbidades</td>\n",
       "      <td>2021-05-26</td>\n",
       "      <td>1ª Dose</td>\n",
       "      <td>Vacina covid-19 - BNT162b2 - BioNTech/Fosun Ph...</td>\n",
       "    </tr>\n",
       "    <tr>\n",
       "      <th>3</th>\n",
       "      <td>f3f290319b6988f1efe9dd0055109b97edda1682a8d78e...</td>\n",
       "      <td>38.0</td>\n",
       "      <td>M</td>\n",
       "      <td>BRANCA</td>\n",
       "      <td>CAMBUI</td>\n",
       "      <td>Pneumopatias Crônicas Graves</td>\n",
       "      <td>Comorbidades</td>\n",
       "      <td>2021-07-21</td>\n",
       "      <td>1ª Dose</td>\n",
       "      <td>Vacina Covid-19 - Covishield</td>\n",
       "    </tr>\n",
       "    <tr>\n",
       "      <th>4</th>\n",
       "      <td>b22537ea2d44cf023d14593e345f2dbe7937a946f4bc94...</td>\n",
       "      <td>70.0</td>\n",
       "      <td>F</td>\n",
       "      <td>PARDA</td>\n",
       "      <td>MATOZINHOS</td>\n",
       "      <td>Pessoas de 70 a 74 anos</td>\n",
       "      <td>Faixa Etária</td>\n",
       "      <td>2021-04-06</td>\n",
       "      <td>1ª Dose</td>\n",
       "      <td>Covid-19-Coronavac-Sinovac/Butantan</td>\n",
       "    </tr>\n",
       "  </tbody>\n",
       "</table>\n",
       "</div>"
      ],
      "text/plain": [
       "                                         paciente_id  paciente_idade  \\\n",
       "0  22dae2bb5f906534c9f8ca7efef5e53088ac68f803e50b...            69.0   \n",
       "1  cfb9eb5a765e2160adff875d0dd276e30a1a4e3cc71529...            50.0   \n",
       "2  9bc02b4e729a48316ac090f1fbe50a8ddd3400de31bbf8...            20.0   \n",
       "3  f3f290319b6988f1efe9dd0055109b97edda1682a8d78e...            38.0   \n",
       "4  b22537ea2d44cf023d14593e345f2dbe7937a946f4bc94...            70.0   \n",
       "\n",
       "  paciente_enumsexobiologico paciente_racacor_valor  \\\n",
       "0                          M                 BRANCA   \n",
       "1                          F                AMARELA   \n",
       "2                          F         SEM INFORMACAO   \n",
       "3                          M                 BRANCA   \n",
       "4                          F                  PARDA   \n",
       "\n",
       "  estabelecimento_municipio_nome  vacina_grupoatendimento_nome  \\\n",
       "0                 BELO HORIZONTE       Pessoas de 65 a 69 anos   \n",
       "1                       BOCAIUVA       Pessoas de 18 a 64 anos   \n",
       "2                 BELO HORIZONTE             Diabetes Mellitus   \n",
       "3                         CAMBUI  Pneumopatias Crônicas Graves   \n",
       "4                     MATOZINHOS       Pessoas de 70 a 74 anos   \n",
       "\n",
       "  vacina_categoria_nome vacina_dataaplicacao vacina_descricao_dose  \\\n",
       "0          Faixa Etária           2021-04-01               1ª Dose   \n",
       "1          Faixa Etária           2021-06-23               1ª Dose   \n",
       "2          Comorbidades           2021-05-26               1ª Dose   \n",
       "3          Comorbidades           2021-07-21               1ª Dose   \n",
       "4          Faixa Etária           2021-04-06               1ª Dose   \n",
       "\n",
       "                                         vacina_nome  \n",
       "0                Covid-19-Coronavac-Sinovac/Butantan  \n",
       "1  Vacina covid-19 - BNT162b2 - BioNTech/Fosun Ph...  \n",
       "2  Vacina covid-19 - BNT162b2 - BioNTech/Fosun Ph...  \n",
       "3                       Vacina Covid-19 - Covishield  \n",
       "4                Covid-19-Coronavac-Sinovac/Butantan  "
      ]
     },
     "execution_count": 21,
     "metadata": {},
     "output_type": "execute_result"
    }
   ],
   "source": [
    "df1.head()"
   ]
  },
  {
   "cell_type": "code",
   "execution_count": 22,
   "id": "d8c3544f",
   "metadata": {},
   "outputs": [
    {
     "data": {
      "text/plain": [
       "paciente_id                            4\n",
       "paciente_idade                         4\n",
       "paciente_enumsexobiologico             4\n",
       "paciente_racacor_valor                 4\n",
       "estabelecimento_municipio_nome         0\n",
       "vacina_grupoatendimento_nome      698100\n",
       "vacina_categoria_nome             701803\n",
       "vacina_dataaplicacao                   0\n",
       "vacina_descricao_dose                  0\n",
       "vacina_nome                            0\n",
       "dtype: int64"
      ]
     },
     "execution_count": 22,
     "metadata": {},
     "output_type": "execute_result"
    }
   ],
   "source": [
    "# Verificando valores ausentes\n",
    "df1.isnull().sum()"
   ]
  },
  {
   "cell_type": "code",
   "execution_count": 23,
   "id": "a6651b8b",
   "metadata": {},
   "outputs": [
    {
     "data": {
      "text/plain": [
       "1ª Dose                 12811941\n",
       "2ª Dose                  5364617\n",
       "Dose                      422256\n",
       "Única                      29864\n",
       "3ª Dose                      191\n",
       "2ª Dose Revacinação           18\n",
       "1ª Dose Revacinação            1\n",
       "Name: vacina_descricao_dose, dtype: int64"
      ]
     },
     "execution_count": 23,
     "metadata": {},
     "output_type": "execute_result"
    }
   ],
   "source": [
    "# Verificando inconsistência nos dados\n",
    "df1['vacina_descricao_dose'].value_counts()"
   ]
  },
  {
   "cell_type": "code",
   "execution_count": 24,
   "id": "0ac5186e",
   "metadata": {},
   "outputs": [],
   "source": [
    "# Trantando inconsistência nos dados\n",
    "df1['vacina_descricao_dose'] = df1['vacina_descricao_dose'].replace('1ª\\xa0Dose', '1ª Dose')\n",
    "df1['vacina_descricao_dose'] = df1['vacina_descricao_dose'].replace('2ª\\xa0Dose', '2ª Dose')\n",
    "df1['vacina_descricao_dose'] = df1['vacina_descricao_dose'].replace('Dose\\xa0', 'Dose Única')\n",
    "df1['vacina_descricao_dose'] = df1['vacina_descricao_dose'].replace('Única\\xa0', 'Dose Única')\n",
    "df1['vacina_descricao_dose'] = df1['vacina_descricao_dose'].replace('2ª\\xa0Dose\\xa0Revacinação\\xa0', '2ª Dose')\n",
    "df1['vacina_descricao_dose'] = df1['vacina_descricao_dose'].replace('3ª\\xa0Dose', '2ª Dose')\n",
    "df1['vacina_descricao_dose'] = df1['vacina_descricao_dose'].replace('1ª\\xa0Dose\\xa0Revacinação\\xa0', '1ª Dose')"
   ]
  },
  {
   "cell_type": "code",
   "execution_count": 25,
   "id": "bb24e1eb",
   "metadata": {},
   "outputs": [
    {
     "data": {
      "text/plain": [
       "1ª Dose       12811942\n",
       "2ª Dose        5364826\n",
       "Dose Única      452120\n",
       "Name: vacina_descricao_dose, dtype: int64"
      ]
     },
     "execution_count": 25,
     "metadata": {},
     "output_type": "execute_result"
    }
   ],
   "source": [
    "# Verificando se está tudo certo\n",
    "df1['vacina_descricao_dose'].value_counts()"
   ]
  },
  {
   "cell_type": "code",
   "execution_count": 26,
   "id": "9aa805d6",
   "metadata": {},
   "outputs": [],
   "source": [
    "# Alterando coluna de sexo, M-> Masculino e F-> Feminino\n",
    "df1['paciente_enumsexobiologico'] = df1['paciente_enumsexobiologico'].replace('M', 'Masculino')\n",
    "df1['paciente_enumsexobiologico'] = df1['paciente_enumsexobiologico'].replace('F', 'Feminino')"
   ]
  },
  {
   "cell_type": "code",
   "execution_count": 27,
   "id": "34cb0e00",
   "metadata": {},
   "outputs": [
    {
     "data": {
      "text/plain": [
       "Feminino     10043045\n",
       "Masculino     8585827\n",
       "I                  12\n",
       "Name: paciente_enumsexobiologico, dtype: int64"
      ]
     },
     "execution_count": 27,
     "metadata": {},
     "output_type": "execute_result"
    }
   ],
   "source": [
    "df1['paciente_enumsexobiologico'].value_counts()"
   ]
  },
  {
   "cell_type": "code",
   "execution_count": 28,
   "id": "4d263cc0",
   "metadata": {},
   "outputs": [],
   "source": [
    "# Trantando inconsistência nos dados\n",
    "df1['vacina_nome'] = df1['vacina_nome'].replace('Vacina Covid-19 - Covishield', 'AstraZeneca')\n",
    "df1['vacina_nome'] = df1['vacina_nome'].replace('Covid-19-AstraZeneca', 'AstraZeneca')\n",
    "df1['vacina_nome'] = df1['vacina_nome'].replace('Covid-19-Coronavac-Sinovac/Butantan', 'Coronavac')\n",
    "df1['vacina_nome'] = df1['vacina_nome'].replace('Vacina covid-19 - BNT162b2 - BioNTech/Fosun Pharma/Pfizer', 'Pfizer')\n",
    "df1['vacina_nome'] = df1['vacina_nome'].replace('Vacina covid-19 - Ad26.COV2.S - Janssen-Cilag', 'Janssen')"
   ]
  },
  {
   "cell_type": "code",
   "execution_count": 29,
   "id": "717213d9",
   "metadata": {},
   "outputs": [
    {
     "data": {
      "text/plain": [
       "AstraZeneca    8569910\n",
       "Coronavac      6025742\n",
       "Pfizer         3580854\n",
       "Janssen         452382\n",
       "Name: vacina_nome, dtype: int64"
      ]
     },
     "execution_count": 29,
     "metadata": {},
     "output_type": "execute_result"
    }
   ],
   "source": [
    "df1['vacina_nome'].value_counts()"
   ]
  },
  {
   "cell_type": "code",
   "execution_count": 30,
   "id": "f073aba7",
   "metadata": {},
   "outputs": [
    {
     "data": {
      "text/html": [
       "<div>\n",
       "<style scoped>\n",
       "    .dataframe tbody tr th:only-of-type {\n",
       "        vertical-align: middle;\n",
       "    }\n",
       "\n",
       "    .dataframe tbody tr th {\n",
       "        vertical-align: top;\n",
       "    }\n",
       "\n",
       "    .dataframe thead th {\n",
       "        text-align: right;\n",
       "    }\n",
       "</style>\n",
       "<table border=\"1\" class=\"dataframe\">\n",
       "  <thead>\n",
       "    <tr style=\"text-align: right;\">\n",
       "      <th></th>\n",
       "      <th>paciente_id</th>\n",
       "      <th>paciente_idade</th>\n",
       "      <th>paciente_enumsexobiologico</th>\n",
       "      <th>paciente_racacor_valor</th>\n",
       "      <th>estabelecimento_municipio_nome</th>\n",
       "      <th>vacina_grupoatendimento_nome</th>\n",
       "      <th>vacina_categoria_nome</th>\n",
       "      <th>vacina_dataaplicacao</th>\n",
       "      <th>vacina_descricao_dose</th>\n",
       "      <th>vacina_nome</th>\n",
       "    </tr>\n",
       "  </thead>\n",
       "  <tbody>\n",
       "    <tr>\n",
       "      <th>0</th>\n",
       "      <td>22dae2bb5f906534c9f8ca7efef5e53088ac68f803e50b...</td>\n",
       "      <td>69.0</td>\n",
       "      <td>Masculino</td>\n",
       "      <td>BRANCA</td>\n",
       "      <td>BELO HORIZONTE</td>\n",
       "      <td>Pessoas de 65 a 69 anos</td>\n",
       "      <td>Faixa Etária</td>\n",
       "      <td>2021-04-01</td>\n",
       "      <td>1ª Dose</td>\n",
       "      <td>Coronavac</td>\n",
       "    </tr>\n",
       "    <tr>\n",
       "      <th>1</th>\n",
       "      <td>cfb9eb5a765e2160adff875d0dd276e30a1a4e3cc71529...</td>\n",
       "      <td>50.0</td>\n",
       "      <td>Feminino</td>\n",
       "      <td>AMARELA</td>\n",
       "      <td>BOCAIUVA</td>\n",
       "      <td>Pessoas de 18 a 64 anos</td>\n",
       "      <td>Faixa Etária</td>\n",
       "      <td>2021-06-23</td>\n",
       "      <td>1ª Dose</td>\n",
       "      <td>Pfizer</td>\n",
       "    </tr>\n",
       "    <tr>\n",
       "      <th>2</th>\n",
       "      <td>9bc02b4e729a48316ac090f1fbe50a8ddd3400de31bbf8...</td>\n",
       "      <td>20.0</td>\n",
       "      <td>Feminino</td>\n",
       "      <td>SEM INFORMACAO</td>\n",
       "      <td>BELO HORIZONTE</td>\n",
       "      <td>Diabetes Mellitus</td>\n",
       "      <td>Comorbidades</td>\n",
       "      <td>2021-05-26</td>\n",
       "      <td>1ª Dose</td>\n",
       "      <td>Pfizer</td>\n",
       "    </tr>\n",
       "    <tr>\n",
       "      <th>3</th>\n",
       "      <td>f3f290319b6988f1efe9dd0055109b97edda1682a8d78e...</td>\n",
       "      <td>38.0</td>\n",
       "      <td>Masculino</td>\n",
       "      <td>BRANCA</td>\n",
       "      <td>CAMBUI</td>\n",
       "      <td>Pneumopatias Crônicas Graves</td>\n",
       "      <td>Comorbidades</td>\n",
       "      <td>2021-07-21</td>\n",
       "      <td>1ª Dose</td>\n",
       "      <td>AstraZeneca</td>\n",
       "    </tr>\n",
       "    <tr>\n",
       "      <th>4</th>\n",
       "      <td>b22537ea2d44cf023d14593e345f2dbe7937a946f4bc94...</td>\n",
       "      <td>70.0</td>\n",
       "      <td>Feminino</td>\n",
       "      <td>PARDA</td>\n",
       "      <td>MATOZINHOS</td>\n",
       "      <td>Pessoas de 70 a 74 anos</td>\n",
       "      <td>Faixa Etária</td>\n",
       "      <td>2021-04-06</td>\n",
       "      <td>1ª Dose</td>\n",
       "      <td>Coronavac</td>\n",
       "    </tr>\n",
       "  </tbody>\n",
       "</table>\n",
       "</div>"
      ],
      "text/plain": [
       "                                         paciente_id  paciente_idade  \\\n",
       "0  22dae2bb5f906534c9f8ca7efef5e53088ac68f803e50b...            69.0   \n",
       "1  cfb9eb5a765e2160adff875d0dd276e30a1a4e3cc71529...            50.0   \n",
       "2  9bc02b4e729a48316ac090f1fbe50a8ddd3400de31bbf8...            20.0   \n",
       "3  f3f290319b6988f1efe9dd0055109b97edda1682a8d78e...            38.0   \n",
       "4  b22537ea2d44cf023d14593e345f2dbe7937a946f4bc94...            70.0   \n",
       "\n",
       "  paciente_enumsexobiologico paciente_racacor_valor  \\\n",
       "0                  Masculino                 BRANCA   \n",
       "1                   Feminino                AMARELA   \n",
       "2                   Feminino         SEM INFORMACAO   \n",
       "3                  Masculino                 BRANCA   \n",
       "4                   Feminino                  PARDA   \n",
       "\n",
       "  estabelecimento_municipio_nome  vacina_grupoatendimento_nome  \\\n",
       "0                 BELO HORIZONTE       Pessoas de 65 a 69 anos   \n",
       "1                       BOCAIUVA       Pessoas de 18 a 64 anos   \n",
       "2                 BELO HORIZONTE             Diabetes Mellitus   \n",
       "3                         CAMBUI  Pneumopatias Crônicas Graves   \n",
       "4                     MATOZINHOS       Pessoas de 70 a 74 anos   \n",
       "\n",
       "  vacina_categoria_nome vacina_dataaplicacao vacina_descricao_dose  \\\n",
       "0          Faixa Etária           2021-04-01               1ª Dose   \n",
       "1          Faixa Etária           2021-06-23               1ª Dose   \n",
       "2          Comorbidades           2021-05-26               1ª Dose   \n",
       "3          Comorbidades           2021-07-21               1ª Dose   \n",
       "4          Faixa Etária           2021-04-06               1ª Dose   \n",
       "\n",
       "   vacina_nome  \n",
       "0    Coronavac  \n",
       "1       Pfizer  \n",
       "2       Pfizer  \n",
       "3  AstraZeneca  \n",
       "4    Coronavac  "
      ]
     },
     "execution_count": 30,
     "metadata": {},
     "output_type": "execute_result"
    }
   ],
   "source": [
    "df1.head()"
   ]
  },
  {
   "cell_type": "code",
   "execution_count": 31,
   "id": "800bb272",
   "metadata": {},
   "outputs": [],
   "source": [
    "# Salvando a base em disco\n",
    "df1.to_csv('base_simplificada.csv')"
   ]
  },
  {
   "cell_type": "markdown",
   "id": "235f54ab",
   "metadata": {},
   "source": [
    "Foi possível reduzir a dimensão do dataset de 9GB para 3,2GB, mantendo as informações que serão utilizadas o que vai ajudar bastante o Power BI a processar os dados."
   ]
  },
  {
   "cell_type": "code",
   "execution_count": 50,
   "id": "3946a351",
   "metadata": {},
   "outputs": [],
   "source": [
    "# Importando Base simplificada\n",
    "df = pd.read_csv('base_simplificada.csv', sep = ';')"
   ]
  }
 ],
 "metadata": {
  "kernelspec": {
   "display_name": "Python 3",
   "language": "python",
   "name": "python3"
  },
  "language_info": {
   "codemirror_mode": {
    "name": "ipython",
    "version": 3
   },
   "file_extension": ".py",
   "mimetype": "text/x-python",
   "name": "python",
   "nbconvert_exporter": "python",
   "pygments_lexer": "ipython3",
   "version": "3.8.8"
  }
 },
 "nbformat": 4,
 "nbformat_minor": 5
}
